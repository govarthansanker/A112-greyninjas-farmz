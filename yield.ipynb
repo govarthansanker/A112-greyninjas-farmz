{
  "nbformat": 4,
  "nbformat_minor": 0,
  "metadata": {
    "colab": {
      "name": "yield",
      "provenance": []
    },
    "kernelspec": {
      "name": "python3",
      "display_name": "Python 3"
    }
  },
  "cells": [
    {
      "cell_type": "code",
      "metadata": {
        "id": "ebKS9_vlb130",
        "colab_type": "code",
        "colab": {}
      },
      "source": [
        "import pandas as pd\n",
        "import numpy as np\n",
        "import seaborn as sns\n",
        "import matplotlib.pyplot as plt"
      ],
      "execution_count": 0,
      "outputs": []
    },
    {
      "cell_type": "code",
      "metadata": {
        "id": "UsEfVUHicYUA",
        "colab_type": "code",
        "colab": {}
      },
      "source": [
        "df=pd.read_csv(\"/content/apy.csv\")"
      ],
      "execution_count": 0,
      "outputs": []
    },
    {
      "cell_type": "code",
      "metadata": {
        "id": "1He7dADwdb96",
        "colab_type": "code",
        "outputId": "355b78fb-2257-4329-9f89-fd334a426a6f",
        "colab": {
          "base_uri": "https://localhost:8080/",
          "height": 204
        }
      },
      "source": [
        "df.head()"
      ],
      "execution_count": 0,
      "outputs": [
        {
          "output_type": "execute_result",
          "data": {
            "text/html": [
              "<div>\n",
              "<style scoped>\n",
              "    .dataframe tbody tr th:only-of-type {\n",
              "        vertical-align: middle;\n",
              "    }\n",
              "\n",
              "    .dataframe tbody tr th {\n",
              "        vertical-align: top;\n",
              "    }\n",
              "\n",
              "    .dataframe thead th {\n",
              "        text-align: right;\n",
              "    }\n",
              "</style>\n",
              "<table border=\"1\" class=\"dataframe\">\n",
              "  <thead>\n",
              "    <tr style=\"text-align: right;\">\n",
              "      <th></th>\n",
              "      <th>State_Name</th>\n",
              "      <th>District_Name</th>\n",
              "      <th>Crop_Year</th>\n",
              "      <th>Season</th>\n",
              "      <th>Crop</th>\n",
              "      <th>Area</th>\n",
              "      <th>Production</th>\n",
              "    </tr>\n",
              "  </thead>\n",
              "  <tbody>\n",
              "    <tr>\n",
              "      <th>0</th>\n",
              "      <td>Andaman and Nicobar Islands</td>\n",
              "      <td>NICOBARS</td>\n",
              "      <td>2000</td>\n",
              "      <td>Kharif</td>\n",
              "      <td>Arecanut</td>\n",
              "      <td>1254.0</td>\n",
              "      <td>2000.0</td>\n",
              "    </tr>\n",
              "    <tr>\n",
              "      <th>1</th>\n",
              "      <td>Andaman and Nicobar Islands</td>\n",
              "      <td>NICOBARS</td>\n",
              "      <td>2000</td>\n",
              "      <td>Kharif</td>\n",
              "      <td>Other Kharif pulses</td>\n",
              "      <td>2.0</td>\n",
              "      <td>1.0</td>\n",
              "    </tr>\n",
              "    <tr>\n",
              "      <th>2</th>\n",
              "      <td>Andaman and Nicobar Islands</td>\n",
              "      <td>NICOBARS</td>\n",
              "      <td>2000</td>\n",
              "      <td>Kharif</td>\n",
              "      <td>Rice</td>\n",
              "      <td>102.0</td>\n",
              "      <td>321.0</td>\n",
              "    </tr>\n",
              "    <tr>\n",
              "      <th>3</th>\n",
              "      <td>Andaman and Nicobar Islands</td>\n",
              "      <td>NICOBARS</td>\n",
              "      <td>2000</td>\n",
              "      <td>Whole Year</td>\n",
              "      <td>Banana</td>\n",
              "      <td>176.0</td>\n",
              "      <td>641.0</td>\n",
              "    </tr>\n",
              "    <tr>\n",
              "      <th>4</th>\n",
              "      <td>Andaman and Nicobar Islands</td>\n",
              "      <td>NICOBARS</td>\n",
              "      <td>2000</td>\n",
              "      <td>Whole Year</td>\n",
              "      <td>Cashewnut</td>\n",
              "      <td>720.0</td>\n",
              "      <td>165.0</td>\n",
              "    </tr>\n",
              "  </tbody>\n",
              "</table>\n",
              "</div>"
            ],
            "text/plain": [
              "                    State_Name District_Name  ...    Area Production\n",
              "0  Andaman and Nicobar Islands      NICOBARS  ...  1254.0     2000.0\n",
              "1  Andaman and Nicobar Islands      NICOBARS  ...     2.0        1.0\n",
              "2  Andaman and Nicobar Islands      NICOBARS  ...   102.0      321.0\n",
              "3  Andaman and Nicobar Islands      NICOBARS  ...   176.0      641.0\n",
              "4  Andaman and Nicobar Islands      NICOBARS  ...   720.0      165.0\n",
              "\n",
              "[5 rows x 7 columns]"
            ]
          },
          "metadata": {
            "tags": []
          },
          "execution_count": 3
        }
      ]
    },
    {
      "cell_type": "code",
      "metadata": {
        "id": "Ciaq8ceXdb7t",
        "colab_type": "code",
        "outputId": "dbe3d092-034a-466f-e7ca-539782065d72",
        "colab": {
          "base_uri": "https://localhost:8080/",
          "height": 221
        }
      },
      "source": [
        "df.info()"
      ],
      "execution_count": 0,
      "outputs": [
        {
          "output_type": "stream",
          "text": [
            "<class 'pandas.core.frame.DataFrame'>\n",
            "RangeIndex: 246091 entries, 0 to 246090\n",
            "Data columns (total 7 columns):\n",
            "State_Name       246091 non-null object\n",
            "District_Name    246091 non-null object\n",
            "Crop_Year        246091 non-null int64\n",
            "Season           246091 non-null object\n",
            "Crop             246091 non-null object\n",
            "Area             246091 non-null float64\n",
            "Production       242361 non-null float64\n",
            "dtypes: float64(2), int64(1), object(4)\n",
            "memory usage: 13.1+ MB\n"
          ],
          "name": "stdout"
        }
      ]
    },
    {
      "cell_type": "code",
      "metadata": {
        "id": "n8yI4002du_1",
        "colab_type": "code",
        "outputId": "52b94b45-d935-4d71-d15f-ccb03e01b70e",
        "colab": {
          "base_uri": "https://localhost:8080/",
          "height": 584
        }
      },
      "source": [
        "sns.pairplot(df)"
      ],
      "execution_count": 0,
      "outputs": [
        {
          "output_type": "execute_result",
          "data": {
            "text/plain": [
              "<seaborn.axisgrid.PairGrid at 0x7f345f63c6d8>"
            ]
          },
          "metadata": {
            "tags": []
          },
          "execution_count": 5
        },
        {
          "output_type": "display_data",
          "data": {
            "image/png": "[encoded data removed]",
            "text/plain": [
              "<Figure size 540x540 with 12 Axes>"
            ]
          },
          "metadata": {
            "tags": []
          }
        }
      ]
    },
    {
      "cell_type": "code",
      "metadata": {
        "id": "t8R5wKRNeFN4",
        "colab_type": "code",
        "outputId": "14cd0a87-fdf9-48c4-a542-cf75f9133107",
        "colab": {
          "base_uri": "https://localhost:8080/",
          "height": 54
        }
      },
      "source": [
        "dist=df[\"District_Name\"].unique()\n",
        "distd={y:x for x,y in enumerate(dist)}\n",
        "print(distd)"
      ],
      "execution_count": 0,
      "outputs": [
        {
          "output_type": "stream",
          "text": [
            "{'NICOBARS': 0, 'NORTH AND MIDDLE ANDAMAN': 1, 'SOUTH ANDAMANS': 2, 'ANANTAPUR': 3, 'CHITTOOR': 4, 'EAST GODAVARI': 5, 'GUNTUR': 6, 'KADAPA': 7, 'KRISHNA': 8, 'KURNOOL': 9, 'PRAKASAM': 10, 'SPSR NELLORE': 11, 'SRIKAKULAM': 12, 'VISAKHAPATANAM': 13, 'VIZIANAGARAM': 14, 'WEST GODAVARI': 15, 'ANJAW': 16, 'CHANGLANG': 17, 'DIBANG VALLEY': 18, 'EAST KAMENG': 19, 'EAST SIANG': 20, 'KURUNG KUMEY': 21, 'LOHIT': 22, 'LONGDING': 23, 'LOWER DIBANG VALLEY': 24, 'LOWER SUBANSIRI': 25, 'NAMSAI': 26, 'PAPUM PARE': 27, 'TAWANG': 28, 'TIRAP': 29, 'UPPER SIANG': 30, 'UPPER SUBANSIRI': 31, 'WEST KAMENG': 32, 'WEST SIANG': 33, 'BAKSA': 34, 'BARPETA': 35, 'BONGAIGAON': 36, 'CACHAR': 37, 'CHIRANG': 38, 'DARRANG': 39, 'DHEMAJI': 40, 'DHUBRI': 41, 'DIBRUGARH': 42, 'DIMA HASAO': 43, 'GOALPARA': 44, 'GOLAGHAT': 45, 'HAILAKANDI': 46, 'JORHAT': 47, 'KAMRUP': 48, 'KAMRUP METRO': 49, 'KARBI ANGLONG': 50, 'KARIMGANJ': 51, 'KOKRAJHAR': 52, 'LAKHIMPUR': 53, 'MARIGAON': 54, 'NAGAON': 55, 'NALBARI': 56, 'SIVASAGAR': 57, 'SONITPUR': 58, 'TINSUKIA': 59, 'UDALGURI': 60, 'ARARIA': 61, 'ARWAL': 62, 'AURANGABAD': 63, 'BANKA': 64, 'BEGUSARAI': 65, 'BHAGALPUR': 66, 'BHOJPUR': 67, 'BUXAR': 68, 'DARBHANGA': 69, 'GAYA': 70, 'GOPALGANJ': 71, 'JAMUI': 72, 'JEHANABAD': 73, 'KAIMUR (BHABUA)': 74, 'KATIHAR': 75, 'KHAGARIA': 76, 'KISHANGANJ': 77, 'LAKHISARAI': 78, 'MADHEPURA': 79, 'MADHUBANI': 80, 'MUNGER': 81, 'MUZAFFARPUR': 82, 'NALANDA': 83, 'NAWADA': 84, 'PASHCHIM CHAMPARAN': 85, 'PATNA': 86, 'PURBI CHAMPARAN': 87, 'PURNIA': 88, 'ROHTAS': 89, 'SAHARSA': 90, 'SAMASTIPUR': 91, 'SARAN': 92, 'SHEIKHPURA': 93, 'SHEOHAR': 94, 'SITAMARHI': 95, 'SIWAN': 96, 'SUPAUL': 97, 'VAISHALI': 98, 'CHANDIGARH': 99, 'BALOD': 100, 'BALODA BAZAR': 101, 'BALRAMPUR': 102, 'BASTAR': 103, 'BEMETARA': 104, 'BIJAPUR': 105, 'BILASPUR': 106, 'DANTEWADA': 107, 'DHAMTARI': 108, 'DURG': 109, 'GARIYABAND': 110, 'JANJGIR-CHAMPA': 111, 'JASHPUR': 112, 'KABIRDHAM': 113, 'KANKER': 114, 'KONDAGAON': 115, 'KORBA': 116, 'KOREA': 117, 'MAHASAMUND': 118, 'MUNGELI': 119, 'NARAYANPUR': 120, 'RAIGARH': 121, 'RAIPUR': 122, 'RAJNANDGAON': 123, 'SUKMA': 124, 'SURAJPUR': 125, 'SURGUJA': 126, 'DADRA AND NAGAR HAVELI': 127, 'NORTH GOA': 128, 'SOUTH GOA': 129, 'AHMADABAD': 130, 'AMRELI': 131, 'ANAND': 132, 'BANAS KANTHA': 133, 'BHARUCH': 134, 'BHAVNAGAR': 135, 'DANG': 136, 'DOHAD': 137, 'GANDHINAGAR': 138, 'JAMNAGAR': 139, 'JUNAGADH': 140, 'KACHCHH': 141, 'KHEDA': 142, 'MAHESANA': 143, 'NARMADA': 144, 'NAVSARI': 145, 'PANCH MAHALS': 146, 'PATAN': 147, 'PORBANDAR': 148, 'RAJKOT': 149, 'SABAR KANTHA': 150, 'SURAT': 151, 'SURENDRANAGAR': 152, 'TAPI': 153, 'VADODARA': 154, 'VALSAD': 155, 'AMBALA': 156, 'BHIWANI': 157, 'FARIDABAD': 158, 'FATEHABAD': 159, 'GURGAON': 160, 'HISAR': 161, 'JHAJJAR': 162, 'JIND': 163, 'KAITHAL': 164, 'KARNAL': 165, 'KURUKSHETRA': 166, 'MAHENDRAGARH': 167, 'MEWAT': 168, 'PALWAL': 169, 'PANCHKULA': 170, 'PANIPAT': 171, 'REWARI': 172, 'ROHTAK': 173, 'SIRSA': 174, 'SONIPAT': 175, 'YAMUNANAGAR': 176, 'CHAMBA': 177, 'HAMIRPUR': 178, 'KANGRA': 179, 'KINNAUR': 180, 'KULLU': 181, 'LAHUL AND SPITI': 182, 'MANDI': 183, 'SHIMLA': 184, 'SIRMAUR': 185, 'SOLAN': 186, 'UNA': 187, 'ANANTNAG': 188, 'BADGAM': 189, 'BANDIPORA': 190, 'BARAMULLA': 191, 'DODA': 192, 'GANDERBAL': 193, 'JAMMU': 194, 'KARGIL': 195, 'KATHUA': 196, 'KISHTWAR': 197, 'KULGAM': 198, 'KUPWARA': 199, 'LEH LADAKH': 200, 'POONCH': 201, 'PULWAMA': 202, 'RAJAURI': 203, 'RAMBAN': 204, 'REASI': 205, 'SAMBA': 206, 'SHOPIAN': 207, 'SRINAGAR': 208, 'UDHAMPUR': 209, 'BOKARO': 210, 'CHATRA': 211, 'DEOGHAR': 212, 'DHANBAD': 213, 'DUMKA': 214, 'EAST SINGHBUM': 215, 'GARHWA': 216, 'GIRIDIH': 217, 'GODDA': 218, 'GUMLA': 219, 'HAZARIBAGH': 220, 'JAMTARA': 221, 'KHUNTI': 222, 'KODERMA': 223, 'LATEHAR': 224, 'LOHARDAGA': 225, 'PAKUR': 226, 'PALAMU': 227, 'RAMGARH': 228, 'RANCHI': 229, 'SAHEBGANJ': 230, 'SARAIKELA KHARSAWAN': 231, 'SIMDEGA': 232, 'WEST SINGHBHUM': 233, 'BAGALKOT': 234, 'BANGALORE RURAL': 235, 'BELGAUM': 236, 'BELLARY': 237, 'BENGALURU URBAN': 238, 'BIDAR': 239, 'CHAMARAJANAGAR': 240, 'CHIKBALLAPUR': 241, 'CHIKMAGALUR': 242, 'CHITRADURGA': 243, 'DAKSHIN KANNAD': 244, 'DAVANGERE': 245, 'DHARWAD': 246, 'GADAG': 247, 'GULBARGA': 248, 'HASSAN': 249, 'HAVERI': 250, 'KODAGU': 251, 'KOLAR': 252, 'KOPPAL': 253, 'MANDYA': 254, 'MYSORE': 255, 'RAICHUR': 256, 'RAMANAGARA': 257, 'SHIMOGA': 258, 'TUMKUR': 259, 'UDUPI': 260, 'UTTAR KANNAD': 261, 'YADGIR': 262, 'ALAPPUZHA': 263, 'ERNAKULAM': 264, 'IDUKKI': 265, 'KANNUR': 266, 'KASARAGOD': 267, 'KOLLAM': 268, 'KOTTAYAM': 269, 'KOZHIKODE': 270, 'MALAPPURAM': 271, 'PALAKKAD': 272, 'PATHANAMTHITTA': 273, 'THIRUVANANTHAPURAM': 274, 'THRISSUR': 275, 'WAYANAD': 276, 'AGAR MALWA': 277, 'ALIRAJPUR': 278, 'ANUPPUR': 279, 'ASHOKNAGAR': 280, 'BALAGHAT': 281, 'BARWANI': 282, 'BETUL': 283, 'BHIND': 284, 'BHOPAL': 285, 'BURHANPUR': 286, 'CHHATARPUR': 287, 'CHHINDWARA': 288, 'DAMOH': 289, 'DATIA': 290, 'DEWAS': 291, 'DHAR': 292, 'DINDORI': 293, 'GUNA': 294, 'GWALIOR': 295, 'HARDA': 296, 'HOSHANGABAD': 297, 'INDORE': 298, 'JABALPUR': 299, 'JHABUA': 300, 'KATNI': 301, 'KHANDWA': 302, 'KHARGONE': 303, 'MANDLA': 304, 'MANDSAUR': 305, 'MORENA': 306, 'NARSINGHPUR': 307, 'NEEMUCH': 308, 'PANNA': 309, 'RAISEN': 310, 'RAJGARH': 311, 'RATLAM': 312, 'REWA': 313, 'SAGAR': 314, 'SATNA': 315, 'SEHORE': 316, 'SEONI': 317, 'SHAHDOL': 318, 'SHAJAPUR': 319, 'SHEOPUR': 320, 'SHIVPURI': 321, 'SIDHI': 322, 'SINGRAULI': 323, 'TIKAMGARH': 324, 'UJJAIN': 325, 'UMARIA': 326, 'VIDISHA': 327, 'AHMEDNAGAR': 328, 'AKOLA': 329, 'AMRAVATI': 330, 'BEED': 331, 'BHANDARA': 332, 'BULDHANA': 333, 'CHANDRAPUR': 334, 'DHULE': 335, 'GADCHIROLI': 336, 'GONDIA': 337, 'HINGOLI': 338, 'JALGAON': 339, 'JALNA': 340, 'KOLHAPUR': 341, 'LATUR': 342, 'MUMBAI': 343, 'NAGPUR': 344, 'NANDED': 345, 'NANDURBAR': 346, 'NASHIK': 347, 'OSMANABAD': 348, 'PALGHAR': 349, 'PARBHANI': 350, 'PUNE': 351, 'RAIGAD': 352, 'RATNAGIRI': 353, 'SANGLI': 354, 'SATARA': 355, 'SINDHUDURG': 356, 'SOLAPUR': 357, 'THANE': 358, 'WARDHA': 359, 'WASHIM': 360, 'YAVATMAL': 361, 'BISHNUPUR': 362, 'CHANDEL': 363, 'CHURACHANDPUR': 364, 'IMPHAL EAST': 365, 'IMPHAL WEST': 366, 'SENAPATI': 367, 'TAMENGLONG': 368, 'THOUBAL': 369, 'UKHRUL': 370, 'EAST GARO HILLS': 371, 'EAST JAINTIA HILLS': 372, 'EAST KHASI HILLS': 373, 'NORTH GARO HILLS': 374, 'RI BHOI': 375, 'SOUTH GARO HILLS': 376, 'SOUTH WEST GARO HILLS': 377, 'SOUTH WEST KHASI HILLS': 378, 'WEST GARO HILLS': 379, 'WEST JAINTIA HILLS': 380, 'WEST KHASI HILLS': 381, 'AIZAWL': 382, 'CHAMPHAI': 383, 'KOLASIB': 384, 'LAWNGTLAI': 385, 'LUNGLEI': 386, 'MAMIT': 387, 'SAIHA': 388, 'SERCHHIP': 389, 'DIMAPUR': 390, 'KIPHIRE': 391, 'KOHIMA': 392, 'LONGLENG': 393, 'MOKOKCHUNG': 394, 'MON': 395, 'PEREN': 396, 'PHEK': 397, 'TUENSANG': 398, 'WOKHA': 399, 'ZUNHEBOTO': 400, 'ANUGUL': 401, 'BALANGIR': 402, 'BALESHWAR': 403, 'BARGARH': 404, 'BHADRAK': 405, 'BOUDH': 406, 'CUTTACK': 407, 'DEOGARH': 408, 'DHENKANAL': 409, 'GAJAPATI': 410, 'GANJAM': 411, 'JAGATSINGHAPUR': 412, 'JAJAPUR': 413, 'JHARSUGUDA': 414, 'KALAHANDI': 415, 'KANDHAMAL': 416, 'KENDRAPARA': 417, 'KENDUJHAR': 418, 'KHORDHA': 419, 'KORAPUT': 420, 'MALKANGIRI': 421, 'MAYURBHANJ': 422, 'NABARANGPUR': 423, 'NAYAGARH': 424, 'NUAPADA': 425, 'PURI': 426, 'RAYAGADA': 427, 'SAMBALPUR': 428, 'SONEPUR': 429, 'SUNDARGARH': 430, 'KARAIKAL': 431, 'MAHE': 432, 'PONDICHERRY': 433, 'YANAM': 434, 'AMRITSAR': 435, 'BARNALA': 436, 'BATHINDA': 437, 'FARIDKOT': 438, 'FATEHGARH SAHIB': 439, 'FAZILKA': 440, 'FIROZEPUR': 441, 'GURDASPUR': 442, 'HOSHIARPUR': 443, 'JALANDHAR': 444, 'KAPURTHALA': 445, 'LUDHIANA': 446, 'MANSA': 447, 'MOGA': 448, 'MUKTSAR': 449, 'NAWANSHAHR': 450, 'PATHANKOT': 451, 'PATIALA': 452, 'RUPNAGAR': 453, 'S.A.S NAGAR': 454, 'SANGRUR': 455, 'TARN TARAN': 456, 'AJMER': 457, 'ALWAR': 458, 'BANSWARA': 459, 'BARAN': 460, 'BARMER': 461, 'BHARATPUR': 462, 'BHILWARA': 463, 'BIKANER': 464, 'BUNDI': 465, 'CHITTORGARH': 466, 'CHURU': 467, 'DAUSA': 468, 'DHOLPUR': 469, 'DUNGARPUR': 470, 'GANGANAGAR': 471, 'HANUMANGARH': 472, 'JAIPUR': 473, 'JAISALMER': 474, 'JALORE': 475, 'JHALAWAR': 476, 'JHUNJHUNU': 477, 'JODHPUR': 478, 'KARAULI': 479, 'KOTA': 480, 'NAGAUR': 481, 'PALI': 482, 'PRATAPGARH': 483, 'RAJSAMAND': 484, 'SAWAI MADHOPUR': 485, 'SIKAR': 486, 'SIROHI': 487, 'TONK': 488, 'UDAIPUR': 489, 'EAST DISTRICT': 490, 'NORTH DISTRICT': 491, 'SOUTH DISTRICT': 492, 'WEST DISTRICT': 493, 'ARIYALUR': 494, 'COIMBATORE': 495, 'CUDDALORE': 496, 'DHARMAPURI': 497, 'DINDIGUL': 498, 'ERODE': 499, 'KANCHIPURAM': 500, 'KANNIYAKUMARI': 501, 'KARUR': 502, 'KRISHNAGIRI': 503, 'MADURAI': 504, 'NAGAPATTINAM': 505, 'NAMAKKAL': 506, 'PERAMBALUR': 507, 'PUDUKKOTTAI': 508, 'RAMANATHAPURAM': 509, 'SALEM': 510, 'SIVAGANGA': 511, 'THANJAVUR': 512, 'THE NILGIRIS': 513, 'THENI': 514, 'THIRUVALLUR': 515, 'THIRUVARUR': 516, 'TIRUCHIRAPPALLI': 517, 'TIRUNELVELI': 518, 'TIRUPPUR': 519, 'TIRUVANNAMALAI': 520, 'TUTICORIN': 521, 'VELLORE': 522, 'VILLUPURAM': 523, 'VIRUDHUNAGAR': 524, 'ADILABAD': 525, 'HYDERABAD': 526, 'KARIMNAGAR': 527, 'KHAMMAM': 528, 'MAHBUBNAGAR': 529, 'MEDAK': 530, 'NALGONDA': 531, 'NIZAMABAD': 532, 'RANGAREDDI': 533, 'WARANGAL': 534, 'DHALAI': 535, 'GOMATI': 536, 'KHOWAI': 537, 'NORTH TRIPURA': 538, 'SEPAHIJALA': 539, 'SOUTH TRIPURA': 540, 'UNAKOTI': 541, 'WEST TRIPURA': 542, 'AGRA': 543, 'ALIGARH': 544, 'ALLAHABAD': 545, 'AMBEDKAR NAGAR': 546, 'AMETHI': 547, 'AMROHA': 548, 'AURAIYA': 549, 'AZAMGARH': 550, 'BAGHPAT': 551, 'BAHRAICH': 552, 'BALLIA': 553, 'BANDA': 554, 'BARABANKI': 555, 'BAREILLY': 556, 'BASTI': 557, 'BIJNOR': 558, 'BUDAUN': 559, 'BULANDSHAHR': 560, 'CHANDAULI': 561, 'CHITRAKOOT': 562, 'DEORIA': 563, 'ETAH': 564, 'ETAWAH': 565, 'FAIZABAD': 566, 'FARRUKHABAD': 567, 'FATEHPUR': 568, 'FIROZABAD': 569, 'GAUTAM BUDDHA NAGAR': 570, 'GHAZIABAD': 571, 'GHAZIPUR': 572, 'GONDA': 573, 'GORAKHPUR': 574, 'HAPUR': 575, 'HARDOI': 576, 'HATHRAS': 577, 'JALAUN': 578, 'JAUNPUR': 579, 'JHANSI': 580, 'KANNAUJ': 581, 'KANPUR DEHAT': 582, 'KANPUR NAGAR': 583, 'KASGANJ': 584, 'KAUSHAMBI': 585, 'KHERI': 586, 'KUSHI NAGAR': 587, 'LALITPUR': 588, 'LUCKNOW': 589, 'MAHARAJGANJ': 590, 'MAHOBA': 591, 'MAINPURI': 592, 'MATHURA': 593, 'MAU': 594, 'MEERUT': 595, 'MIRZAPUR': 596, 'MORADABAD': 597, 'MUZAFFARNAGAR': 598, 'PILIBHIT': 599, 'RAE BARELI': 600, 'RAMPUR': 601, 'SAHARANPUR': 602, 'SAMBHAL': 603, 'SANT KABEER NAGAR': 604, 'SANT RAVIDAS NAGAR': 605, 'SHAHJAHANPUR': 606, 'SHAMLI': 607, 'SHRAVASTI': 608, 'SIDDHARTH NAGAR': 609, 'SITAPUR': 610, 'SONBHADRA': 611, 'SULTANPUR': 612, 'UNNAO': 613, 'VARANASI': 614, 'ALMORA': 615, 'BAGESHWAR': 616, 'CHAMOLI': 617, 'CHAMPAWAT': 618, 'DEHRADUN': 619, 'HARIDWAR': 620, 'NAINITAL': 621, 'PAURI GARHWAL': 622, 'PITHORAGARH': 623, 'RUDRA PRAYAG': 624, 'TEHRI GARHWAL': 625, 'UDAM SINGH NAGAR': 626, 'UTTAR KASHI': 627, '24 PARAGANAS NORTH': 628, '24 PARAGANAS SOUTH': 629, 'BANKURA': 630, 'BARDHAMAN': 631, 'BIRBHUM': 632, 'COOCHBEHAR': 633, 'DARJEELING': 634, 'DINAJPUR DAKSHIN': 635, 'DINAJPUR UTTAR': 636, 'HOOGHLY': 637, 'HOWRAH': 638, 'JALPAIGURI': 639, 'MALDAH': 640, 'MEDINIPUR EAST': 641, 'MEDINIPUR WEST': 642, 'MURSHIDABAD': 643, 'NADIA': 644, 'PURULIA': 645}\n"
          ],
          "name": "stdout"
        }
      ]
    },
    {
      "cell_type": "code",
      "metadata": {
        "id": "Iuh_QNE0fP94",
        "colab_type": "code",
        "outputId": "83947343-6c18-444b-c318-23815b8b13e0",
        "colab": {
          "base_uri": "https://localhost:8080/",
          "height": 54
        }
      },
      "source": [
        "states=df[\"State_Name\"].unique()\n",
        "stated={y:x for x,y in enumerate(states)}\n",
        "print(stated)\n"
      ],
      "execution_count": 0,
      "outputs": [
        {
          "output_type": "stream",
          "text": [
            "{'Andaman and Nicobar Islands': 0, 'Andhra Pradesh': 1, 'Arunachal Pradesh': 2, 'Assam': 3, 'Bihar': 4, 'Chandigarh': 5, 'Chhattisgarh': 6, 'Dadra and Nagar Haveli': 7, 'Goa': 8, 'Gujarat': 9, 'Haryana': 10, 'Himachal Pradesh': 11, 'Jammu and Kashmir ': 12, 'Jharkhand': 13, 'Karnataka': 14, 'Kerala': 15, 'Madhya Pradesh': 16, 'Maharashtra': 17, 'Manipur': 18, 'Meghalaya': 19, 'Mizoram': 20, 'Nagaland': 21, 'Odisha': 22, 'Puducherry': 23, 'Punjab': 24, 'Rajasthan': 25, 'Sikkim': 26, 'Tamil Nadu': 27, 'Telangana ': 28, 'Tripura': 29, 'Uttar Pradesh': 30, 'Uttarakhand': 31, 'West Bengal': 32}\n"
          ],
          "name": "stdout"
        }
      ]
    },
    {
      "cell_type": "code",
      "metadata": {
        "id": "LJQ3J8-QgMBr",
        "colab_type": "code",
        "outputId": "934640ec-e5a1-4790-c958-8a04ebbc64af",
        "colab": {
          "base_uri": "https://localhost:8080/",
          "height": 54
        }
      },
      "source": [
        "crops=df[\"Crop\"].unique()\n",
        "cropsd={y:x for x,y in enumerate(crops)}\n",
        "print(cropsd)\n",
        "\n"
      ],
      "execution_count": 0,
      "outputs": [
        {
          "output_type": "stream",
          "text": [
            "{'Arecanut': 0, 'Other Kharif pulses': 1, 'Rice': 2, 'Banana': 3, 'Cashewnut': 4, 'Coconut ': 5, 'Dry ginger': 6, 'Sugarcane': 7, 'Sweet potato': 8, 'Tapioca': 9, 'Black pepper': 10, 'Dry chillies': 11, 'other oilseeds': 12, 'Turmeric': 13, 'Maize': 14, 'Moong(Green Gram)': 15, 'Urad': 16, 'Arhar/Tur': 17, 'Groundnut': 18, 'Sunflower': 19, 'Bajra': 20, 'Castor seed': 21, 'Cotton(lint)': 22, 'Horse-gram': 23, 'Jowar': 24, 'Korra': 25, 'Ragi': 26, 'Tobacco': 27, 'Gram': 28, 'Wheat': 29, 'Masoor': 30, 'Sesamum': 31, 'Linseed': 32, 'Safflower': 33, 'Onion': 34, 'other misc. pulses': 35, 'Samai': 36, 'Small millets': 37, 'Coriander': 38, 'Potato': 39, 'Other  Rabi pulses': 40, 'Soyabean': 41, 'Beans & Mutter(Vegetable)': 42, 'Bhindi': 43, 'Brinjal': 44, 'Citrus Fruit': 45, 'Cucumber': 46, 'Grapes': 47, 'Mango': 48, 'Orange': 49, 'other fibres': 50, 'Other Fresh Fruits': 51, 'Other Vegetables': 52, 'Papaya': 53, 'Pome Fruit': 54, 'Tomato': 55, 'Rapeseed &Mustard': 56, 'Mesta': 57, 'Cowpea(Lobia)': 58, 'Lemon': 59, 'Pome Granet': 60, 'Sapota': 61, 'Cabbage': 62, 'Peas  (vegetable)': 63, 'Niger seed': 64, 'Bottle Gourd': 65, 'Sannhamp': 66, 'Varagu': 67, 'Garlic': 68, 'Ginger': 69, 'Oilseeds total': 70, 'Pulses total': 71, 'Jute': 72, 'Peas & beans (Pulses)': 73, 'Blackgram': 74, 'Paddy': 75, 'Pineapple': 76, 'Barley': 77, 'Khesari': 78, 'Guar seed': 79, 'Moth': 80, 'Other Cereals & Millets': 81, 'Cond-spcs other': 82, 'Turnip': 83, 'Carrot': 84, 'Redish': 85, 'Arcanut (Processed)': 86, 'Atcanut (Raw)': 87, 'Cashewnut Processed': 88, 'Cashewnut Raw': 89, 'Cardamom': 90, 'Rubber': 91, 'Bitter Gourd': 92, 'Drum Stick': 93, 'Jack Fruit': 94, 'Snak Guard': 95, 'Pump Kin': 96, 'Tea': 97, 'Coffee': 98, 'Cauliflower': 99, 'Other Citrus Fruit': 100, 'Water Melon': 101, 'Total foodgrain': 102, 'Kapas': 103, 'Colocosia': 104, 'Lentil': 105, 'Bean': 106, 'Jobster': 107, 'Perilla': 108, 'Rajmash Kholar': 109, 'Ricebean (nagadal)': 110, 'Ash Gourd': 111, 'Beet Root': 112, 'Lab-Lab': 113, 'Ribed Guard': 114, 'Yam': 115, 'Apple': 116, 'Peach': 117, 'Pear': 118, 'Plums': 119, 'Litchi': 120, 'Ber': 121, 'Other Dry Fruit': 122, 'Jute & mesta': 123}\n"
          ],
          "name": "stdout"
        }
      ]
    },
    {
      "cell_type": "code",
      "metadata": {
        "id": "dE5nPvopge5O",
        "colab_type": "code",
        "outputId": "990f3572-4d54-4068-efbb-4a52030621c8",
        "colab": {
          "base_uri": "https://localhost:8080/",
          "height": 419
        }
      },
      "source": [
        "df.replace(distd,inplace=True)\n",
        "df"
      ],
      "execution_count": 0,
      "outputs": [
        {
          "output_type": "execute_result",
          "data": {
            "text/html": [
              "<div>\n",
              "<style scoped>\n",
              "    .dataframe tbody tr th:only-of-type {\n",
              "        vertical-align: middle;\n",
              "    }\n",
              "\n",
              "    .dataframe tbody tr th {\n",
              "        vertical-align: top;\n",
              "    }\n",
              "\n",
              "    .dataframe thead th {\n",
              "        text-align: right;\n",
              "    }\n",
              "</style>\n",
              "<table border=\"1\" class=\"dataframe\">\n",
              "  <thead>\n",
              "    <tr style=\"text-align: right;\">\n",
              "      <th></th>\n",
              "      <th>State_Name</th>\n",
              "      <th>District_Name</th>\n",
              "      <th>Crop_Year</th>\n",
              "      <th>Season</th>\n",
              "      <th>Crop</th>\n",
              "      <th>Area</th>\n",
              "      <th>Production</th>\n",
              "    </tr>\n",
              "  </thead>\n",
              "  <tbody>\n",
              "    <tr>\n",
              "      <th>0</th>\n",
              "      <td>Andaman and Nicobar Islands</td>\n",
              "      <td>0</td>\n",
              "      <td>2000</td>\n",
              "      <td>Kharif</td>\n",
              "      <td>Arecanut</td>\n",
              "      <td>1254.0</td>\n",
              "      <td>2000.0</td>\n",
              "    </tr>\n",
              "    <tr>\n",
              "      <th>1</th>\n",
              "      <td>Andaman and Nicobar Islands</td>\n",
              "      <td>0</td>\n",
              "      <td>2000</td>\n",
              "      <td>Kharif</td>\n",
              "      <td>Other Kharif pulses</td>\n",
              "      <td>2.0</td>\n",
              "      <td>1.0</td>\n",
              "    </tr>\n",
              "    <tr>\n",
              "      <th>2</th>\n",
              "      <td>Andaman and Nicobar Islands</td>\n",
              "      <td>0</td>\n",
              "      <td>2000</td>\n",
              "      <td>Kharif</td>\n",
              "      <td>Rice</td>\n",
              "      <td>102.0</td>\n",
              "      <td>321.0</td>\n",
              "    </tr>\n",
              "    <tr>\n",
              "      <th>3</th>\n",
              "      <td>Andaman and Nicobar Islands</td>\n",
              "      <td>0</td>\n",
              "      <td>2000</td>\n",
              "      <td>Whole Year</td>\n",
              "      <td>Banana</td>\n",
              "      <td>176.0</td>\n",
              "      <td>641.0</td>\n",
              "    </tr>\n",
              "    <tr>\n",
              "      <th>4</th>\n",
              "      <td>Andaman and Nicobar Islands</td>\n",
              "      <td>0</td>\n",
              "      <td>2000</td>\n",
              "      <td>Whole Year</td>\n",
              "      <td>Cashewnut</td>\n",
              "      <td>720.0</td>\n",
              "      <td>165.0</td>\n",
              "    </tr>\n",
              "    <tr>\n",
              "      <th>...</th>\n",
              "      <td>...</td>\n",
              "      <td>...</td>\n",
              "      <td>...</td>\n",
              "      <td>...</td>\n",
              "      <td>...</td>\n",
              "      <td>...</td>\n",
              "      <td>...</td>\n",
              "    </tr>\n",
              "    <tr>\n",
              "      <th>246086</th>\n",
              "      <td>West Bengal</td>\n",
              "      <td>645</td>\n",
              "      <td>2014</td>\n",
              "      <td>Summer</td>\n",
              "      <td>Rice</td>\n",
              "      <td>306.0</td>\n",
              "      <td>801.0</td>\n",
              "    </tr>\n",
              "    <tr>\n",
              "      <th>246087</th>\n",
              "      <td>West Bengal</td>\n",
              "      <td>645</td>\n",
              "      <td>2014</td>\n",
              "      <td>Summer</td>\n",
              "      <td>Sesamum</td>\n",
              "      <td>627.0</td>\n",
              "      <td>463.0</td>\n",
              "    </tr>\n",
              "    <tr>\n",
              "      <th>246088</th>\n",
              "      <td>West Bengal</td>\n",
              "      <td>645</td>\n",
              "      <td>2014</td>\n",
              "      <td>Whole Year</td>\n",
              "      <td>Sugarcane</td>\n",
              "      <td>324.0</td>\n",
              "      <td>16250.0</td>\n",
              "    </tr>\n",
              "    <tr>\n",
              "      <th>246089</th>\n",
              "      <td>West Bengal</td>\n",
              "      <td>645</td>\n",
              "      <td>2014</td>\n",
              "      <td>Winter</td>\n",
              "      <td>Rice</td>\n",
              "      <td>279151.0</td>\n",
              "      <td>597899.0</td>\n",
              "    </tr>\n",
              "    <tr>\n",
              "      <th>246090</th>\n",
              "      <td>West Bengal</td>\n",
              "      <td>645</td>\n",
              "      <td>2014</td>\n",
              "      <td>Winter</td>\n",
              "      <td>Sesamum</td>\n",
              "      <td>175.0</td>\n",
              "      <td>88.0</td>\n",
              "    </tr>\n",
              "  </tbody>\n",
              "</table>\n",
              "<p>246091 rows × 7 columns</p>\n",
              "</div>"
            ],
            "text/plain": [
              "                         State_Name  District_Name  ...      Area Production\n",
              "0       Andaman and Nicobar Islands              0  ...    1254.0     2000.0\n",
              "1       Andaman and Nicobar Islands              0  ...       2.0        1.0\n",
              "2       Andaman and Nicobar Islands              0  ...     102.0      321.0\n",
              "3       Andaman and Nicobar Islands              0  ...     176.0      641.0\n",
              "4       Andaman and Nicobar Islands              0  ...     720.0      165.0\n",
              "...                             ...            ...  ...       ...        ...\n",
              "246086                  West Bengal            645  ...     306.0      801.0\n",
              "246087                  West Bengal            645  ...     627.0      463.0\n",
              "246088                  West Bengal            645  ...     324.0    16250.0\n",
              "246089                  West Bengal            645  ...  279151.0   597899.0\n",
              "246090                  West Bengal            645  ...     175.0       88.0\n",
              "\n",
              "[246091 rows x 7 columns]"
            ]
          },
          "metadata": {
            "tags": []
          },
          "execution_count": 9
        }
      ]
    },
    {
      "cell_type": "code",
      "metadata": {
        "id": "kbURbGk0jwTK",
        "colab_type": "code",
        "outputId": "bec5d828-e49c-41d3-c0cc-48b70d6c9564",
        "colab": {
          "base_uri": "https://localhost:8080/",
          "height": 419
        }
      },
      "source": [
        "df.replace(stated,inplace=True)\n",
        "df"
      ],
      "execution_count": 0,
      "outputs": [
        {
          "output_type": "execute_result",
          "data": {
            "text/html": [
              "<div>\n",
              "<style scoped>\n",
              "    .dataframe tbody tr th:only-of-type {\n",
              "        vertical-align: middle;\n",
              "    }\n",
              "\n",
              "    .dataframe tbody tr th {\n",
              "        vertical-align: top;\n",
              "    }\n",
              "\n",
              "    .dataframe thead th {\n",
              "        text-align: right;\n",
              "    }\n",
              "</style>\n",
              "<table border=\"1\" class=\"dataframe\">\n",
              "  <thead>\n",
              "    <tr style=\"text-align: right;\">\n",
              "      <th></th>\n",
              "      <th>State_Name</th>\n",
              "      <th>District_Name</th>\n",
              "      <th>Crop_Year</th>\n",
              "      <th>Season</th>\n",
              "      <th>Crop</th>\n",
              "      <th>Area</th>\n",
              "      <th>Production</th>\n",
              "    </tr>\n",
              "  </thead>\n",
              "  <tbody>\n",
              "    <tr>\n",
              "      <th>0</th>\n",
              "      <td>0</td>\n",
              "      <td>0</td>\n",
              "      <td>2000</td>\n",
              "      <td>Kharif</td>\n",
              "      <td>Arecanut</td>\n",
              "      <td>1254.0</td>\n",
              "      <td>2000.0</td>\n",
              "    </tr>\n",
              "    <tr>\n",
              "      <th>1</th>\n",
              "      <td>0</td>\n",
              "      <td>0</td>\n",
              "      <td>2000</td>\n",
              "      <td>Kharif</td>\n",
              "      <td>Other Kharif pulses</td>\n",
              "      <td>2.0</td>\n",
              "      <td>1.0</td>\n",
              "    </tr>\n",
              "    <tr>\n",
              "      <th>2</th>\n",
              "      <td>0</td>\n",
              "      <td>0</td>\n",
              "      <td>2000</td>\n",
              "      <td>Kharif</td>\n",
              "      <td>Rice</td>\n",
              "      <td>102.0</td>\n",
              "      <td>321.0</td>\n",
              "    </tr>\n",
              "    <tr>\n",
              "      <th>3</th>\n",
              "      <td>0</td>\n",
              "      <td>0</td>\n",
              "      <td>2000</td>\n",
              "      <td>Whole Year</td>\n",
              "      <td>Banana</td>\n",
              "      <td>176.0</td>\n",
              "      <td>641.0</td>\n",
              "    </tr>\n",
              "    <tr>\n",
              "      <th>4</th>\n",
              "      <td>0</td>\n",
              "      <td>0</td>\n",
              "      <td>2000</td>\n",
              "      <td>Whole Year</td>\n",
              "      <td>Cashewnut</td>\n",
              "      <td>720.0</td>\n",
              "      <td>165.0</td>\n",
              "    </tr>\n",
              "    <tr>\n",
              "      <th>...</th>\n",
              "      <td>...</td>\n",
              "      <td>...</td>\n",
              "      <td>...</td>\n",
              "      <td>...</td>\n",
              "      <td>...</td>\n",
              "      <td>...</td>\n",
              "      <td>...</td>\n",
              "    </tr>\n",
              "    <tr>\n",
              "      <th>246086</th>\n",
              "      <td>32</td>\n",
              "      <td>645</td>\n",
              "      <td>2014</td>\n",
              "      <td>Summer</td>\n",
              "      <td>Rice</td>\n",
              "      <td>306.0</td>\n",
              "      <td>801.0</td>\n",
              "    </tr>\n",
              "    <tr>\n",
              "      <th>246087</th>\n",
              "      <td>32</td>\n",
              "      <td>645</td>\n",
              "      <td>2014</td>\n",
              "      <td>Summer</td>\n",
              "      <td>Sesamum</td>\n",
              "      <td>627.0</td>\n",
              "      <td>463.0</td>\n",
              "    </tr>\n",
              "    <tr>\n",
              "      <th>246088</th>\n",
              "      <td>32</td>\n",
              "      <td>645</td>\n",
              "      <td>2014</td>\n",
              "      <td>Whole Year</td>\n",
              "      <td>Sugarcane</td>\n",
              "      <td>324.0</td>\n",
              "      <td>16250.0</td>\n",
              "    </tr>\n",
              "    <tr>\n",
              "      <th>246089</th>\n",
              "      <td>32</td>\n",
              "      <td>645</td>\n",
              "      <td>2014</td>\n",
              "      <td>Winter</td>\n",
              "      <td>Rice</td>\n",
              "      <td>279151.0</td>\n",
              "      <td>597899.0</td>\n",
              "    </tr>\n",
              "    <tr>\n",
              "      <th>246090</th>\n",
              "      <td>32</td>\n",
              "      <td>645</td>\n",
              "      <td>2014</td>\n",
              "      <td>Winter</td>\n",
              "      <td>Sesamum</td>\n",
              "      <td>175.0</td>\n",
              "      <td>88.0</td>\n",
              "    </tr>\n",
              "  </tbody>\n",
              "</table>\n",
              "<p>246091 rows × 7 columns</p>\n",
              "</div>"
            ],
            "text/plain": [
              "        State_Name  District_Name  ...      Area Production\n",
              "0                0              0  ...    1254.0     2000.0\n",
              "1                0              0  ...       2.0        1.0\n",
              "2                0              0  ...     102.0      321.0\n",
              "3                0              0  ...     176.0      641.0\n",
              "4                0              0  ...     720.0      165.0\n",
              "...            ...            ...  ...       ...        ...\n",
              "246086          32            645  ...     306.0      801.0\n",
              "246087          32            645  ...     627.0      463.0\n",
              "246088          32            645  ...     324.0    16250.0\n",
              "246089          32            645  ...  279151.0   597899.0\n",
              "246090          32            645  ...     175.0       88.0\n",
              "\n",
              "[246091 rows x 7 columns]"
            ]
          },
          "metadata": {
            "tags": []
          },
          "execution_count": 10
        }
      ]
    },
    {
      "cell_type": "code",
      "metadata": {
        "id": "G-2Ew6cKkNX_",
        "colab_type": "code",
        "outputId": "9a177ea2-ac20-4675-aa9e-0ae19f2d27a5",
        "colab": {
          "base_uri": "https://localhost:8080/",
          "height": 419
        }
      },
      "source": [
        "df.replace(cropsd,inplace=True)\n",
        "df"
      ],
      "execution_count": 0,
      "outputs": [
        {
          "output_type": "execute_result",
          "data": {
            "text/html": [
              "<div>\n",
              "<style scoped>\n",
              "    .dataframe tbody tr th:only-of-type {\n",
              "        vertical-align: middle;\n",
              "    }\n",
              "\n",
              "    .dataframe tbody tr th {\n",
              "        vertical-align: top;\n",
              "    }\n",
              "\n",
              "    .dataframe thead th {\n",
              "        text-align: right;\n",
              "    }\n",
              "</style>\n",
              "<table border=\"1\" class=\"dataframe\">\n",
              "  <thead>\n",
              "    <tr style=\"text-align: right;\">\n",
              "      <th></th>\n",
              "      <th>State_Name</th>\n",
              "      <th>District_Name</th>\n",
              "      <th>Crop_Year</th>\n",
              "      <th>Season</th>\n",
              "      <th>Crop</th>\n",
              "      <th>Area</th>\n",
              "      <th>Production</th>\n",
              "    </tr>\n",
              "  </thead>\n",
              "  <tbody>\n",
              "    <tr>\n",
              "      <th>0</th>\n",
              "      <td>0</td>\n",
              "      <td>0</td>\n",
              "      <td>2000</td>\n",
              "      <td>Kharif</td>\n",
              "      <td>0</td>\n",
              "      <td>1254.0</td>\n",
              "      <td>2000.0</td>\n",
              "    </tr>\n",
              "    <tr>\n",
              "      <th>1</th>\n",
              "      <td>0</td>\n",
              "      <td>0</td>\n",
              "      <td>2000</td>\n",
              "      <td>Kharif</td>\n",
              "      <td>1</td>\n",
              "      <td>2.0</td>\n",
              "      <td>1.0</td>\n",
              "    </tr>\n",
              "    <tr>\n",
              "      <th>2</th>\n",
              "      <td>0</td>\n",
              "      <td>0</td>\n",
              "      <td>2000</td>\n",
              "      <td>Kharif</td>\n",
              "      <td>2</td>\n",
              "      <td>102.0</td>\n",
              "      <td>321.0</td>\n",
              "    </tr>\n",
              "    <tr>\n",
              "      <th>3</th>\n",
              "      <td>0</td>\n",
              "      <td>0</td>\n",
              "      <td>2000</td>\n",
              "      <td>Whole Year</td>\n",
              "      <td>3</td>\n",
              "      <td>176.0</td>\n",
              "      <td>641.0</td>\n",
              "    </tr>\n",
              "    <tr>\n",
              "      <th>4</th>\n",
              "      <td>0</td>\n",
              "      <td>0</td>\n",
              "      <td>2000</td>\n",
              "      <td>Whole Year</td>\n",
              "      <td>4</td>\n",
              "      <td>720.0</td>\n",
              "      <td>165.0</td>\n",
              "    </tr>\n",
              "    <tr>\n",
              "      <th>...</th>\n",
              "      <td>...</td>\n",
              "      <td>...</td>\n",
              "      <td>...</td>\n",
              "      <td>...</td>\n",
              "      <td>...</td>\n",
              "      <td>...</td>\n",
              "      <td>...</td>\n",
              "    </tr>\n",
              "    <tr>\n",
              "      <th>246086</th>\n",
              "      <td>32</td>\n",
              "      <td>645</td>\n",
              "      <td>2014</td>\n",
              "      <td>Summer</td>\n",
              "      <td>2</td>\n",
              "      <td>306.0</td>\n",
              "      <td>801.0</td>\n",
              "    </tr>\n",
              "    <tr>\n",
              "      <th>246087</th>\n",
              "      <td>32</td>\n",
              "      <td>645</td>\n",
              "      <td>2014</td>\n",
              "      <td>Summer</td>\n",
              "      <td>31</td>\n",
              "      <td>627.0</td>\n",
              "      <td>463.0</td>\n",
              "    </tr>\n",
              "    <tr>\n",
              "      <th>246088</th>\n",
              "      <td>32</td>\n",
              "      <td>645</td>\n",
              "      <td>2014</td>\n",
              "      <td>Whole Year</td>\n",
              "      <td>7</td>\n",
              "      <td>324.0</td>\n",
              "      <td>16250.0</td>\n",
              "    </tr>\n",
              "    <tr>\n",
              "      <th>246089</th>\n",
              "      <td>32</td>\n",
              "      <td>645</td>\n",
              "      <td>2014</td>\n",
              "      <td>Winter</td>\n",
              "      <td>2</td>\n",
              "      <td>279151.0</td>\n",
              "      <td>597899.0</td>\n",
              "    </tr>\n",
              "    <tr>\n",
              "      <th>246090</th>\n",
              "      <td>32</td>\n",
              "      <td>645</td>\n",
              "      <td>2014</td>\n",
              "      <td>Winter</td>\n",
              "      <td>31</td>\n",
              "      <td>175.0</td>\n",
              "      <td>88.0</td>\n",
              "    </tr>\n",
              "  </tbody>\n",
              "</table>\n",
              "<p>246091 rows × 7 columns</p>\n",
              "</div>"
            ],
            "text/plain": [
              "        State_Name  District_Name  Crop_Year  ... Crop      Area  Production\n",
              "0                0              0       2000  ...    0    1254.0      2000.0\n",
              "1                0              0       2000  ...    1       2.0         1.0\n",
              "2                0              0       2000  ...    2     102.0       321.0\n",
              "3                0              0       2000  ...    3     176.0       641.0\n",
              "4                0              0       2000  ...    4     720.0       165.0\n",
              "...            ...            ...        ...  ...  ...       ...         ...\n",
              "246086          32            645       2014  ...    2     306.0       801.0\n",
              "246087          32            645       2014  ...   31     627.0       463.0\n",
              "246088          32            645       2014  ...    7     324.0     16250.0\n",
              "246089          32            645       2014  ...    2  279151.0    597899.0\n",
              "246090          32            645       2014  ...   31     175.0        88.0\n",
              "\n",
              "[246091 rows x 7 columns]"
            ]
          },
          "metadata": {
            "tags": []
          },
          "execution_count": 11
        }
      ]
    },
    {
      "cell_type": "code",
      "metadata": {
        "id": "H3DY4_z5kg-4",
        "colab_type": "code",
        "outputId": "485c6280-1585-4373-cbc1-3bd05ff50692",
        "colab": {
          "base_uri": "https://localhost:8080/",
          "height": 34
        }
      },
      "source": [
        "seasons=df[\"Season\"].unique()\n",
        "seasonsad={y:x for x,y in enumerate(seasons)}\n",
        "print(seasonsad)\n",
        "\n",
        "df.replace(seasonsad,inplace=True)"
      ],
      "execution_count": 0,
      "outputs": [
        {
          "output_type": "stream",
          "text": [
            "{'Kharif     ': 0, 'Whole Year ': 1, 'Autumn     ': 2, 'Rabi       ': 3, 'Summer     ': 4, 'Winter     ': 5}\n"
          ],
          "name": "stdout"
        }
      ]
    },
    {
      "cell_type": "code",
      "metadata": {
        "id": "5Idsl4XwlXl5",
        "colab_type": "code",
        "outputId": "58c03c18-8862-4ea4-ed49-c5ad3d5bd1f6",
        "colab": {
          "base_uri": "https://localhost:8080/",
          "height": 458
        }
      },
      "source": [
        "sns.jointplot(df[\"Crop_Year\"],df[\"Production\"])"
      ],
      "execution_count": 0,
      "outputs": [
        {
          "output_type": "execute_result",
          "data": {
            "text/plain": [
              "<seaborn.axisgrid.JointGrid at 0x7f345f63c5f8>"
            ]
          },
          "metadata": {
            "tags": []
          },
          "execution_count": 13
        },
        {
          "output_type": "display_data",
          "data": {
            "image/png": "[encoded data removed]",
            "text/plain": [
              "<Figure size 432x432 with 3 Axes>"
            ]
          },
          "metadata": {
            "tags": []
          }
        }
      ]
    },
    {
      "cell_type": "code",
      "metadata": {
        "id": "59rAtEsGYXMM",
        "colab_type": "code",
        "colab": {}
      },
      "source": [
        "df.dropna(inplace=True)"
      ],
      "execution_count": 0,
      "outputs": []
    },
    {
      "cell_type": "code",
      "metadata": {
        "id": "hqzdQWLOSYuy",
        "colab_type": "code",
        "outputId": "a2ef96d0-d8be-41e4-e837-ac6bc852e589",
        "colab": {
          "base_uri": "https://localhost:8080/",
          "height": 180
        }
      },
      "source": [
        "import missingno as msno\n",
        "msno.matrix(Y)"
      ],
      "execution_count": 0,
      "outputs": [
        {
          "output_type": "error",
          "ename": "NameError",
          "evalue": "ignored",
          "traceback": [
            "\u001b[0;31m---------------------------------------------------------------------------\u001b[0m",
            "\u001b[0;31mNameError\u001b[0m                                 Traceback (most recent call last)",
            "\u001b[0;32m<ipython-input-20-6e07020e4bee>\u001b[0m in \u001b[0;36m<module>\u001b[0;34m()\u001b[0m\n\u001b[1;32m      1\u001b[0m \u001b[0;32mimport\u001b[0m \u001b[0mmissingno\u001b[0m \u001b[0;32mas\u001b[0m \u001b[0mmsno\u001b[0m\u001b[0;34m\u001b[0m\u001b[0;34m\u001b[0m\u001b[0m\n\u001b[0;32m----> 2\u001b[0;31m \u001b[0mmsno\u001b[0m\u001b[0;34m.\u001b[0m\u001b[0mmatrix\u001b[0m\u001b[0;34m(\u001b[0m\u001b[0mY\u001b[0m\u001b[0;34m)\u001b[0m\u001b[0;34m\u001b[0m\u001b[0;34m\u001b[0m\u001b[0m\n\u001b[0m",
            "\u001b[0;31mNameError\u001b[0m: name 'Y' is not defined"
          ]
        }
      ]
    },
    {
      "cell_type": "code",
      "metadata": {
        "id": "SFe2qRR8WP9G",
        "colab_type": "code",
        "outputId": "e3cd08f9-8248-4bb8-b136-9708f6560ab4",
        "colab": {
          "base_uri": "https://localhost:8080/",
          "height": 204
        }
      },
      "source": [
        "df.head()"
      ],
      "execution_count": 0,
      "outputs": [
        {
          "output_type": "execute_result",
          "data": {
            "text/html": [
              "<div>\n",
              "<style scoped>\n",
              "    .dataframe tbody tr th:only-of-type {\n",
              "        vertical-align: middle;\n",
              "    }\n",
              "\n",
              "    .dataframe tbody tr th {\n",
              "        vertical-align: top;\n",
              "    }\n",
              "\n",
              "    .dataframe thead th {\n",
              "        text-align: right;\n",
              "    }\n",
              "</style>\n",
              "<table border=\"1\" class=\"dataframe\">\n",
              "  <thead>\n",
              "    <tr style=\"text-align: right;\">\n",
              "      <th></th>\n",
              "      <th>State_Name</th>\n",
              "      <th>District_Name</th>\n",
              "      <th>Crop_Year</th>\n",
              "      <th>Season</th>\n",
              "      <th>Crop</th>\n",
              "      <th>Area</th>\n",
              "    </tr>\n",
              "  </thead>\n",
              "  <tbody>\n",
              "    <tr>\n",
              "      <th>0</th>\n",
              "      <td>0</td>\n",
              "      <td>0</td>\n",
              "      <td>2000</td>\n",
              "      <td>0</td>\n",
              "      <td>0</td>\n",
              "      <td>1254.0</td>\n",
              "    </tr>\n",
              "    <tr>\n",
              "      <th>1</th>\n",
              "      <td>0</td>\n",
              "      <td>0</td>\n",
              "      <td>2000</td>\n",
              "      <td>0</td>\n",
              "      <td>1</td>\n",
              "      <td>2.0</td>\n",
              "    </tr>\n",
              "    <tr>\n",
              "      <th>2</th>\n",
              "      <td>0</td>\n",
              "      <td>0</td>\n",
              "      <td>2000</td>\n",
              "      <td>0</td>\n",
              "      <td>2</td>\n",
              "      <td>102.0</td>\n",
              "    </tr>\n",
              "    <tr>\n",
              "      <th>3</th>\n",
              "      <td>0</td>\n",
              "      <td>0</td>\n",
              "      <td>2000</td>\n",
              "      <td>1</td>\n",
              "      <td>3</td>\n",
              "      <td>176.0</td>\n",
              "    </tr>\n",
              "    <tr>\n",
              "      <th>4</th>\n",
              "      <td>0</td>\n",
              "      <td>0</td>\n",
              "      <td>2000</td>\n",
              "      <td>1</td>\n",
              "      <td>4</td>\n",
              "      <td>720.0</td>\n",
              "    </tr>\n",
              "  </tbody>\n",
              "</table>\n",
              "</div>"
            ],
            "text/plain": [
              "   State_Name  District_Name  Crop_Year  Season  Crop    Area\n",
              "0           0              0       2000       0     0  1254.0\n",
              "1           0              0       2000       0     1     2.0\n",
              "2           0              0       2000       0     2   102.0\n",
              "3           0              0       2000       1     3   176.0\n",
              "4           0              0       2000       1     4   720.0"
            ]
          },
          "metadata": {
            "tags": []
          },
          "execution_count": 28
        }
      ]
    },
    {
      "cell_type": "code",
      "metadata": {
        "id": "ack_SfZLaGru",
        "colab_type": "code",
        "colab": {}
      },
      "source": [
        "df.drop(\"Crop_Year\",axis=1,inplace=True)"
      ],
      "execution_count": 0,
      "outputs": []
    },
    {
      "cell_type": "code",
      "metadata": {
        "id": "-QtzDm5oacMk",
        "colab_type": "code",
        "outputId": "38c77ace-6955-4c0a-89dd-39eacc182041",
        "colab": {
          "base_uri": "https://localhost:8080/",
          "height": 204
        }
      },
      "source": [
        "df.head()"
      ],
      "execution_count": 0,
      "outputs": [
        {
          "output_type": "execute_result",
          "data": {
            "text/html": [
              "<div>\n",
              "<style scoped>\n",
              "    .dataframe tbody tr th:only-of-type {\n",
              "        vertical-align: middle;\n",
              "    }\n",
              "\n",
              "    .dataframe tbody tr th {\n",
              "        vertical-align: top;\n",
              "    }\n",
              "\n",
              "    .dataframe thead th {\n",
              "        text-align: right;\n",
              "    }\n",
              "</style>\n",
              "<table border=\"1\" class=\"dataframe\">\n",
              "  <thead>\n",
              "    <tr style=\"text-align: right;\">\n",
              "      <th></th>\n",
              "      <th>State_Name</th>\n",
              "      <th>District_Name</th>\n",
              "      <th>Season</th>\n",
              "      <th>Crop</th>\n",
              "      <th>Area</th>\n",
              "    </tr>\n",
              "  </thead>\n",
              "  <tbody>\n",
              "    <tr>\n",
              "      <th>0</th>\n",
              "      <td>0</td>\n",
              "      <td>0</td>\n",
              "      <td>0</td>\n",
              "      <td>0</td>\n",
              "      <td>1254.0</td>\n",
              "    </tr>\n",
              "    <tr>\n",
              "      <th>1</th>\n",
              "      <td>0</td>\n",
              "      <td>0</td>\n",
              "      <td>0</td>\n",
              "      <td>1</td>\n",
              "      <td>2.0</td>\n",
              "    </tr>\n",
              "    <tr>\n",
              "      <th>2</th>\n",
              "      <td>0</td>\n",
              "      <td>0</td>\n",
              "      <td>0</td>\n",
              "      <td>2</td>\n",
              "      <td>102.0</td>\n",
              "    </tr>\n",
              "    <tr>\n",
              "      <th>3</th>\n",
              "      <td>0</td>\n",
              "      <td>0</td>\n",
              "      <td>1</td>\n",
              "      <td>3</td>\n",
              "      <td>176.0</td>\n",
              "    </tr>\n",
              "    <tr>\n",
              "      <th>4</th>\n",
              "      <td>0</td>\n",
              "      <td>0</td>\n",
              "      <td>1</td>\n",
              "      <td>4</td>\n",
              "      <td>720.0</td>\n",
              "    </tr>\n",
              "  </tbody>\n",
              "</table>\n",
              "</div>"
            ],
            "text/plain": [
              "   State_Name  District_Name  Season  Crop    Area\n",
              "0           0              0       0     0  1254.0\n",
              "1           0              0       0     1     2.0\n",
              "2           0              0       0     2   102.0\n",
              "3           0              0       1     3   176.0\n",
              "4           0              0       1     4   720.0"
            ]
          },
          "metadata": {
            "tags": []
          },
          "execution_count": 31
        }
      ]
    },
    {
      "cell_type": "code",
      "metadata": {
        "id": "g4hVU7M7aGqW",
        "colab_type": "code",
        "outputId": "23fa98ee-c499-4ef1-95b9-a3c49672e85f",
        "colab": {
          "base_uri": "https://localhost:8080/",
          "height": 119
        }
      },
      "source": [
        "Y.head()"
      ],
      "execution_count": 0,
      "outputs": [
        {
          "output_type": "execute_result",
          "data": {
            "text/plain": [
              "0    2000.0\n",
              "1       1.0\n",
              "2     321.0\n",
              "3     641.0\n",
              "4     165.0\n",
              "Name: Production, dtype: float64"
            ]
          },
          "metadata": {
            "tags": []
          },
          "execution_count": 32
        }
      ]
    },
    {
      "cell_type": "code",
      "metadata": {
        "id": "1NT3BT8lZ2vG",
        "colab_type": "code",
        "outputId": "4d295ca1-2f06-40dc-bcaf-403d0079635c",
        "colab": {
          "base_uri": "https://localhost:8080/",
          "height": 163
        }
      },
      "source": [
        "X.head()"
      ],
      "execution_count": 0,
      "outputs": [
        {
          "output_type": "error",
          "ename": "AttributeError",
          "evalue": "ignored",
          "traceback": [
            "\u001b[0;31m---------------------------------------------------------------------------\u001b[0m",
            "\u001b[0;31mAttributeError\u001b[0m                            Traceback (most recent call last)",
            "\u001b[0;32m<ipython-input-25-ae5cd47bda90>\u001b[0m in \u001b[0;36m<module>\u001b[0;34m()\u001b[0m\n\u001b[0;32m----> 1\u001b[0;31m \u001b[0mX\u001b[0m\u001b[0;34m.\u001b[0m\u001b[0mhead\u001b[0m\u001b[0;34m(\u001b[0m\u001b[0;34m)\u001b[0m\u001b[0;34m\u001b[0m\u001b[0;34m\u001b[0m\u001b[0m\n\u001b[0m",
            "\u001b[0;31mAttributeError\u001b[0m: 'NoneType' object has no attribute 'head'"
          ]
        }
      ]
    },
    {
      "cell_type": "code",
      "metadata": {
        "id": "Ronf6G6qlGY_",
        "colab_type": "code",
        "colab": {}
      },
      "source": [
        "from sklearn.linear_model import LinearRegression\n",
        "from sklearn.model_selection import train_test_split\n",
        "X_train, X_test, y_train, y_test = train_test_split(df, Y, test_size=0.30)"
      ],
      "execution_count": 0,
      "outputs": []
    },
    {
      "cell_type": "code",
      "metadata": {
        "id": "rwLRPqwZTwoA",
        "colab_type": "code",
        "colab": {}
      },
      "source": [
        "linear_reg=LinearRegression()"
      ],
      "execution_count": 0,
      "outputs": []
    },
    {
      "cell_type": "code",
      "metadata": {
        "id": "d11RUvNdUxte",
        "colab_type": "code",
        "colab": {}
      },
      "source": [
        "sns.heatmap(Y, mask=Y.isnull())"
      ],
      "execution_count": 0,
      "outputs": []
    },
    {
      "cell_type": "code",
      "metadata": {
        "id": "T4PrtbHgUJZo",
        "colab_type": "code",
        "outputId": "af253d0f-aae2-4bd4-c353-1e9db4b31ab8",
        "colab": {
          "base_uri": "https://localhost:8080/",
          "height": 34
        }
      },
      "source": [
        "linear_reg.fit(X_train,y_train)"
      ],
      "execution_count": 0,
      "outputs": [
        {
          "output_type": "execute_result",
          "data": {
            "text/plain": [
              "LinearRegression(copy_X=True, fit_intercept=True, n_jobs=None, normalize=False)"
            ]
          },
          "metadata": {
            "tags": []
          },
          "execution_count": 36
        }
      ]
    },
    {
      "cell_type": "code",
      "metadata": {
        "id": "-Z8p_QOGauAe",
        "colab_type": "code",
        "colab": {}
      },
      "source": [
        "predictions= linear_reg.predict(X_test)"
      ],
      "execution_count": 0,
      "outputs": []
    },
    {
      "cell_type": "code",
      "metadata": {
        "id": "86D72V-6a3ym",
        "colab_type": "code",
        "colab": {}
      },
      "source": [
        "from sklearn import metrics"
      ],
      "execution_count": 0,
      "outputs": []
    },
    {
      "cell_type": "code",
      "metadata": {
        "id": "Kl6HUMlRa3w_",
        "colab_type": "code",
        "outputId": "d0ffab43-e1ae-43c6-baeb-493aa5185621",
        "colab": {
          "base_uri": "https://localhost:8080/",
          "height": 34
        }
      },
      "source": [
        "print(metrics.mean_squared_error(y_test,predictions))"
      ],
      "execution_count": 0,
      "outputs": [
        {
          "output_type": "stream",
          "text": [
            "263209882959393.62\n"
          ],
          "name": "stdout"
        }
      ]
    },
    {
      "cell_type": "code",
      "metadata": {
        "id": "t2MGOXdycaAw",
        "colab_type": "code",
        "outputId": "98b351f1-965d-4918-9e1c-d6c94484bdde",
        "colab": {
          "base_uri": "https://localhost:8080/",
          "height": 34
        }
      },
      "source": [
        "print(np.sqrt(metrics.mean_squared_error(y_test,predictions)))"
      ],
      "execution_count": 0,
      "outputs": [
        {
          "output_type": "stream",
          "text": [
            "16223744.418579629\n"
          ],
          "name": "stdout"
        }
      ]
    },
    {
      "cell_type": "code",
      "metadata": {
        "id": "XD_tccSWe6Di",
        "colab_type": "code",
        "colab": {}
      },
      "source": [
        ""
      ],
      "execution_count": 0,
      "outputs": []
    },
    {
      "cell_type": "code",
      "metadata": {
        "id": "vR6JN6QCe6Am",
        "colab_type": "code",
        "colab": {}
      },
      "source": [
        ""
      ],
      "execution_count": 0,
      "outputs": []
    }
  ]
}